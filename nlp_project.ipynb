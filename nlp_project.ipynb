{
 "cells": [
  {
   "attachments": {},
   "cell_type": "markdown",
   "metadata": {},
   "source": [
    "# Word Representation in Biomedical Domain\n",
    "\n",
    "Before you start, please make sure you have read this notebook. You are encouraged to follow the recommendations but you are also free to develop your own solution from scratch.\n",
    "\n",
    "## Marking Scheme\n",
    "\n",
    "- Biomedical imaging project: 40%\n",
    "  - 20%: accuracy of the final model on the test set\n",
    "  - 20%: rationale of model design and final report\n",
    "- Natural language processing project: 40%\n",
    "  - 30%: completeness of the project\n",
    "  - 10%: final report\n",
    "- Presentation skills and team work: 20%\n",
    "\n",
    "This project forms 40\\% of the total score for summer/winter school. The marking scheme of each part of this project is provided below with a cap of 100\\%.\n",
    "\n",
    "You are allowed to use open source libraries as long as the libraries are properly cited in the code and final report. The usage of third-party code without proper reference will be treated as plagiarism, which will not be tolerated.\n",
    "\n",
    "You are encouraged to develop the algorithms by yourselves (without using third-party code as much as possible). We will factor such effort into the marking process.\n"
   ]
  },
  {
   "attachments": {},
   "cell_type": "markdown",
   "metadata": {},
   "source": [
    "## Setup and Prerequisites\n",
    "\n",
    "Recommended environment\n",
    "\n",
    "- Python 3.7 or newer\n",
    "- Free disk space: 100GB\n",
    "\n",
    "Download the data\n",
    "\n",
    "```sh\n",
    "# navigate to the data folder\n",
    "cd data\n",
    "\n",
    "# download the data file\n",
    "# which is also available at https://www.semanticscholar.org/cord19/download\n",
    "wget https://ai2-semanticscholar-cord-19.s3-us-west-2.amazonaws.com/2021-07-26/document_parses.tar.gz\n",
    "\n",
    "# decompress the file which may take several minutes\n",
    "tar -xf document_parses.tar.gz\n",
    "\n",
    "# which creates a folder named document_parses\n",
    "```\n"
   ]
  },
  {
   "attachments": {},
   "cell_type": "markdown",
   "metadata": {},
   "source": [
    "## Part 1 (20%): Parse the Data\n",
    "\n",
    "The JSON files are located in two sub-folders in `document_parses`. You will need to scan all JSON files and extract text (i.e. `string`) from relevant fields (e.g. body text, abstract, titles).\n",
    "\n",
    "You are encouraged to extract full article text from body text if possible. If the hardware resource is limited, you can extract from abstract or titles as alternatives.\n",
    "\n",
    "Note: The number of JSON files is around 425k so it may take more than 10 minutes to parse all documents.\n",
    "\n",
    "For more information about the dataset: https://www.semanticscholar.org/cord19/download\n",
    "\n",
    "Recommended output:\n",
    "\n",
    "- A list of text (`string`) extracted from JSON files.\n"
   ]
  },
  {
   "cell_type": "code",
   "execution_count": 30,
   "metadata": {},
   "outputs": [
    {
     "name": "stderr",
     "output_type": "stream",
     "text": [
      "100%|██████████| 240590/240590 [05:34<00:00, 720.23it/s]\n"
     ]
    }
   ],
   "source": [
    "# parse titles and abstracts\n",
    "\n",
    "import os\n",
    "import json\n",
    "from tqdm import tqdm\n",
    "\n",
    "data_root_path = \"./data/document_parses/pdf_json/\"\n",
    "json_paths = [f for f in os.listdir(data_root_path)]\n",
    "\n",
    "titles = []\n",
    "abstracts = []\n",
    "\n",
    "for json_path in tqdm(json_paths):\n",
    "    with open(os.path.join(data_root_path, json_path)) as json_file:\n",
    "        json_data = json.load(json_file)\n",
    "\n",
    "        # parse the title\n",
    "        titles.append(json_data[\"metadata\"][\"title\"])\n",
    "\n",
    "        # parse the abstract\n",
    "        for entry in json_data[\"abstract\"]:\n",
    "            abstracts.append(entry[\"text\"])\n",
    "\n",
    "with open(\"./data/titles.txt\", \"w\") as f:\n",
    "    json.dump(titles, f)\n",
    "\n",
    "with open(\"./data/abstracts.txt\", \"w\") as f:\n",
    "    json.dump(abstracts, f)\n",
    "\n",
    "# about 5 minutes"
   ]
  },
  {
   "attachments": {},
   "cell_type": "markdown",
   "metadata": {},
   "source": [
    "## Part 2 (30%): Tokenization\n",
    "\n",
    "Traverse the extracted text and segment the text into words (or tokens).\n",
    "\n",
    "The following tracks can be developed in independently. You are encouraged to divide the workload to each team member.\n",
    "\n",
    "Recommended output:\n",
    "\n",
    "- Tokenizer(s) that is able to tokenize any input text.\n",
    "\n",
    "Note: Because of the computation complexity of tokenizers, it may take hours/days to process all documents. Which tokenizer is more efficient? Any idea to speedup?\n"
   ]
  },
  {
   "attachments": {},
   "cell_type": "markdown",
   "metadata": {},
   "source": [
    "### Track 2.1 (10%): Use split()\n",
    "\n",
    "Use the standard `split()` by Python.\n"
   ]
  },
  {
   "cell_type": "code",
   "execution_count": 30,
   "metadata": {},
   "outputs": [
    {
     "name": "stderr",
     "output_type": "stream",
     "text": [
      "100%|██████████| 240590/240590 [00:02<00:00, 111316.14it/s]\n"
     ]
    }
   ],
   "source": [
    "import json\n",
    "from tqdm import tqdm\n",
    "\n",
    "with open(\"./data/titles.txt\") as f:\n",
    "    texts = json.load(f)\n",
    "\n",
    "\n",
    "def containAlNum(text):\n",
    "    for c in text:\n",
    "        if c.isalnum():\n",
    "            return True\n",
    "    return False\n",
    "\n",
    "\n",
    "tokens_list = []\n",
    "for text in tqdm(texts):\n",
    "    tokens = text.split()\n",
    "    new_tokens = []\n",
    "    for token in tokens:\n",
    "        if containAlNum(token):\n",
    "            new_tokens.append(token.strip(\" ,./;:()?'\\\"\").lower())\n",
    "    if len(new_tokens) > 0:\n",
    "        tokens_list.append(new_tokens)\n",
    "\n",
    "with open(\"./data/tokens_list_split.txt\", \"w\") as f:\n",
    "    json.dump(tokens_list, f)\n",
    "\n",
    "# about 3 seconds"
   ]
  },
  {
   "attachments": {},
   "cell_type": "markdown",
   "metadata": {},
   "source": [
    "### Track 2.2 (10%): Use NLTK or SciSpaCy\n",
    "\n",
    "NLTK tokenizer: https://www.nltk.org/api/nltk.tokenize.html\n",
    "\n",
    "SciSpaCy: https://github.com/allenai/scispacy\n",
    "\n",
    "Note: You may need to install NLTK and SpaCy so please refer to their websites for installation instructions.\n"
   ]
  },
  {
   "cell_type": "code",
   "execution_count": 1,
   "metadata": {},
   "outputs": [
    {
     "name": "stderr",
     "output_type": "stream",
     "text": [
      "100%|██████████| 240590/240590 [04:21<00:00, 921.38it/s] \n"
     ]
    }
   ],
   "source": [
    "from nltk.tokenize import word_tokenize\n",
    "import json\n",
    "from tqdm import tqdm\n",
    "\n",
    "with open(\"./data/abstracts.txt\") as f:\n",
    "    texts = json.load(f)\n",
    "\n",
    "\n",
    "def containAlNum(text):\n",
    "    for c in text:\n",
    "        if c.isalnum():\n",
    "            return True\n",
    "    return False\n",
    "\n",
    "\n",
    "tokens_list = []\n",
    "for text in tqdm(texts):\n",
    "    tokens = word_tokenize(text)\n",
    "    tokens = [\n",
    "        token.lower().strip(\"-\") for token in tokens if containAlNum(token)\n",
    "    ]\n",
    "    if len(tokens) > 0:\n",
    "        tokens_list.append(tokens)\n",
    "\n",
    "with open(\"./data/tokens_list_abstracts_NLTK.txt\", \"w\") as f:\n",
    "    json.dump(tokens_list, f)"
   ]
  },
  {
   "attachments": {},
   "cell_type": "markdown",
   "metadata": {},
   "source": [
    "### Track 2.3 (10%): Use Byte-Pair Encoding (BPE)\n",
    "\n",
    "Byte-Pair Encoding (BPE): https://huggingface.co/transformers/tokenizer_summary.html\n",
    "\n",
    "Note: You may need to install Huggingface's transformers so please refer to its website for installation instructions.\n"
   ]
  },
  {
   "cell_type": "code",
   "execution_count": 2,
   "metadata": {},
   "outputs": [
    {
     "name": "stdout",
     "output_type": "stream",
     "text": [
      "\n",
      "\n",
      "\n",
      "huggingface/tokenizers: The current process just got forked, after parallelism has already been used. Disabling parallelism to avoid deadlocks...\n",
      "To disable this warning, you can either:\n",
      "\t- Avoid using `tokenizers` before the fork if possible\n",
      "\t- Explicitly set the environment variable TOKENIZERS_PARALLELISM=(true | false)\n"
     ]
    },
    {
     "name": "stderr",
     "output_type": "stream",
     "text": [
      "100%|██████████| 240590/240590 [00:28<00:00, 8545.24it/s] \n"
     ]
    }
   ],
   "source": [
    "from tokenizers import Tokenizer\n",
    "from tokenizers.models import BPE\n",
    "import json\n",
    "from tqdm import tqdm\n",
    "\n",
    "with open(\"./data/titles.txt\") as f:\n",
    "    texts = json.load(f)\n",
    "\n",
    "\n",
    "def containAlNum(text):\n",
    "    for c in text:\n",
    "        if c.isalnum():\n",
    "            return True\n",
    "    return False\n",
    "\n",
    "\n",
    "tokenizer = Tokenizer(BPE(unk_token=\"[UNK]\"))\n",
    "\n",
    "from tokenizers.trainers import BpeTrainer\n",
    "\n",
    "trainer = BpeTrainer(\n",
    "    special_tokens=[\"[UNK]\", \"[CLS]\", \"[SEP]\", \"[PAD]\", \"[MASK]\"])\n",
    "\n",
    "from tokenizers.pre_tokenizers import Whitespace\n",
    "\n",
    "tokenizer.pre_tokenizer = Whitespace()\n",
    "\n",
    "files = [\n",
    "    f\"data/wikitext-103-raw/wiki.{split}.raw\"\n",
    "    for split in [\"test\", \"train\", \"valid\"]\n",
    "]\n",
    "tokenizer.train(files, trainer)\n",
    "\n",
    "tokens_list = []\n",
    "for text in tqdm(texts):\n",
    "    tokens = tokenizer.encode(text).tokens\n",
    "    tokens = [\n",
    "        token.lower().strip(\"-\") for token in tokens if containAlNum(token)\n",
    "    ]\n",
    "    if len(tokens) > 0:\n",
    "        tokens_list.append(tokens)\n",
    "\n",
    "with open(\"./data/tokens_list_titles_BPE.txt\", \"w\") as f:\n",
    "    json.dump(tokens_list, f)\n",
    "\n",
    "# about 90 seconds"
   ]
  },
  {
   "attachments": {},
   "cell_type": "markdown",
   "metadata": {},
   "source": [
    "### Track 2.4 (Bonus +5%): Build new Byte-Pair Encoding (BPE)\n",
    "\n",
    "This track may be dependent on track 2.3.\n",
    "\n",
    "The above pre-built tokenization methods may not be suitable for biomedical domain as the words/tokens (e.g. diseases, symptoms, chemicals, medications, phenotypes, genotypes etc.) can be very different from the words/tokens commonly used in daily life. Can you build and train a new BPE model for biomedical domain in particular?\n"
   ]
  },
  {
   "cell_type": "code",
   "execution_count": null,
   "metadata": {},
   "outputs": [],
   "source": [
    "###################\n",
    "# TODO: add your solution\n",
    "\n",
    "###################"
   ]
  },
  {
   "attachments": {},
   "cell_type": "markdown",
   "metadata": {},
   "source": [
    "### Open Question (Optional):\n",
    "\n",
    "- What are the pros and cons of the above tokenizers?\n"
   ]
  },
  {
   "attachments": {},
   "cell_type": "markdown",
   "metadata": {},
   "source": [
    "The built-in `split()` method is very simple and fast. However, it is not easy to handle special cases such as punctuations.\n",
    "\n",
    "NLTK can extends functionalities easily, but it is still difficult to handle punctuations.\n",
    "\n",
    "BPE can reduce the size of the vocabulary, but it needs to be trained on a large corpus and is not suitable for biomedical domain.\n"
   ]
  },
  {
   "attachments": {},
   "cell_type": "markdown",
   "metadata": {},
   "source": [
    "## Part 3 (30%): Build Word Representations\n",
    "\n",
    "Build word representations for each extracted word. If the hardware resource is limited, you may limit the vocabulary size up to 10k words/tokens (or even smaller) and the dimension of representations up to 256.\n",
    "\n",
    "The following tracks can be developed independently. You are encouraged to divide the workload to each team member.\n"
   ]
  },
  {
   "attachments": {},
   "cell_type": "markdown",
   "metadata": {},
   "source": [
    "### Track 3.1 (15%): Use N-gram Language Modeling\n",
    "\n",
    "N-gram Language Modeling is to predict a target word by using `n` words from previous context. Specifically,\n",
    "\n",
    "$P(w_i | w_{i-1}, w_{i-2}, ..., w_{i-n+1})$\n",
    "\n",
    "For example, given a sentence, `\"the main symptoms of COVID-19 are fever and cough\"`, if $n=7$, we use previous context `[\"the\", \"main\", \"symptoms\", \"of\", \"COVID-19\", \"are\"]` to predict the next word `\"fever\"`.\n",
    "\n",
    "More to read: https://web.stanford.edu/~jurafsky/slp3/3.pdf\n",
    "\n",
    "Recommended outputs:\n",
    "\n",
    "- A fixed vector for each word/token.\n"
   ]
  },
  {
   "cell_type": "code",
   "execution_count": null,
   "metadata": {},
   "outputs": [],
   "source": [
    "import json\n",
    "from tqdm import tqdm\n",
    "import torch\n",
    "import torch.nn as nn\n",
    "import torch.nn.functional as F\n",
    "\n",
    "with open(\"./data/tokens_list_abstracts_NLTK.txt\") as f:\n",
    "    tokens_list = json.load(f)\n",
    "\n",
    "tokens_list = tokens_list[:100]\n",
    "\n",
    "CONTEXT_SIZE = 3\n",
    "EMBEDDING_DIM = 10\n",
    "NUM_EPOCHS = 100\n",
    "\n",
    "print(\"generate grams...\")\n",
    "grams = []\n",
    "for tokens in tokens_list:\n",
    "    for i in range(len(tokens) - CONTEXT_SIZE):\n",
    "        history = tokens[i:i + CONTEXT_SIZE]\n",
    "        target = tokens[i + CONTEXT_SIZE]\n",
    "        grams.append((history, target))\n",
    "print(\"grams count:\", len(grams))\n",
    "\n",
    "print(\"generate vocab...\")\n",
    "vocab = set()\n",
    "for tokens in tokens_list:\n",
    "    for token in tokens:\n",
    "        vocab.add(token)\n",
    "word2id = {word: i for i, word in enumerate(vocab)}\n",
    "id2word = {i: word for word, i in word2id.items()}\n",
    "print(\"vocab size:\", len(vocab))\n",
    "\n",
    "device = torch.device(\"cuda:0\" if torch.cuda.is_available() else \"cpu\")\n",
    "\n",
    "histories_id = [[word2id[word] for word in history]\n",
    "                for history, target in grams]\n",
    "targets_id = [[word2id[target]] for history, target in grams]\n",
    "histories_tensor = torch.tensor(histories_id, dtype=torch.long).to(device)\n",
    "targets_tensor = torch.tensor(targets_id, dtype=torch.long).to(device)\n",
    "grams_tensor = list(zip(histories_tensor, targets_tensor))\n",
    "\n",
    "\n",
    "class N_gram(nn.Module):\n",
    "\n",
    "    def __init__(self, vocab_size, context_size, embedding_dim):\n",
    "        super(N_gram, self).__init__()\n",
    "\n",
    "        self.embeddings = nn.Embedding(vocab_size, embedding_dim)\n",
    "        self.linear1 = nn.Linear(context_size * embedding_dim, 128)\n",
    "        self.linear2 = nn.Linear(128, vocab_size)\n",
    "\n",
    "    def forward(self, inputs):\n",
    "        embeds = self.embeddings(inputs).view((1, -1))\n",
    "        out = self.linear1(embeds)\n",
    "        out = F.relu(out)\n",
    "        out = self.linear2(out)\n",
    "        log_probs = F.log_softmax(out, dim=1)\n",
    "        return log_probs\n",
    "\n",
    "    def extract(self, inputs):\n",
    "        return self.embeddings(inputs)\n",
    "\n",
    "\n",
    "n_gram = N_gram(len(vocab), CONTEXT_SIZE, EMBEDDING_DIM).to(device)\n",
    "\n",
    "loss_function = nn.CrossEntropyLoss()\n",
    "optimizer = torch.optim.SGD(n_gram.parameters(), lr=1e-2, weight_decay=1e-5)\n",
    "\n",
    "print(\"training...\")\n",
    "\n",
    "for epoch in range(NUM_EPOCHS):\n",
    "    total_loss = 0\n",
    "    for history, target in tqdm(grams_tensor):\n",
    "        n_gram.zero_grad()\n",
    "        log_probs = n_gram(history)\n",
    "        loss = loss_function(log_probs, target)\n",
    "        loss.backward()\n",
    "        optimizer.step()\n",
    "        total_loss += loss.item()\n",
    "\n",
    "    print(\"epoch:\", epoch, \"average loss:\", total_loss / len(grams_tensor))\n",
    "\n",
    "print(\"training finished\")\n",
    "\n",
    "n_gram.eval()\n",
    "\n",
    "vectors = n_gram.extract(torch.tensor(list(range(\n",
    "    len(vocab)))).to(device)).data.cpu().numpy()\n",
    "word2vector = {id2word[i]: vectors[i] for i in range(len(vocab))}\n",
    "\n",
    "import pickle\n",
    "with open(\"./data/word2vector_ngram.pkl\", \"wb\") as f:\n",
    "    pickle.dump(word2vector, f)"
   ]
  },
  {
   "attachments": {},
   "cell_type": "markdown",
   "metadata": {},
   "source": [
    "### Track 3.2 (15%): Use Skip-gram with Negative Sampling\n",
    "\n",
    "In skip-gram, we use a central word to predict its context. Specifically,\n",
    "\n",
    "$P(w_{c-m}, ... w_{c-1}, w_{c+1}, ..., w_{c+m} | w_c)$\n",
    "\n",
    "As the learning objective of skip-gram is computational inefficient (summation of entire vocabulary $|V|$), negative sampling is commonly applied to accelerate the training.\n",
    "\n",
    "In negative sampling, we randomly select one word from the context as a positive sample, and randomly select $K$ words from the vocabulary as negative samples. As a result, the learning objective is updated to\n",
    "\n",
    "$L = -\\log\\sigma(u^T_{t} v_c) - \\sum_{k=1}^K\\log\\sigma(-u^T_k v_c)$, where $u_t$ is the vector embedding of positive sample from context, $u_k$ are the vector embeddings of negative samples, $v_c$ is the vector embedding of the central word, $\\sigma$ refers to the sigmoid function.\n",
    "\n",
    "More to read http://web.stanford.edu/class/cs224n/readings/cs224n-2019-notes01-wordvecs1.pdf section 4.3 and 4.4\n",
    "\n",
    "Recommended outputs:\n",
    "\n",
    "- A fixed vector for each word/token.\n"
   ]
  },
  {
   "cell_type": "code",
   "execution_count": null,
   "metadata": {},
   "outputs": [],
   "source": [
    "import json\n",
    "import torch\n",
    "import torch.nn as nn\n",
    "import torch.nn.functional as F\n",
    "import torch.optim as optim\n",
    "from tqdm import tqdm\n",
    "import random\n",
    "import numpy as np\n",
    "import collections\n",
    "\n",
    "MAX_VOCAB_SIZE = 1000\n",
    "MIN_COUNT = 10\n",
    "\n",
    "device = torch.device(\"cuda:0\" if torch.cuda.is_available() else \"cpu\")\n",
    "\n",
    "print(\"load data...\")\n",
    "with open(\"./data/tokens_list_abstracts_NLTK.txt\") as f:\n",
    "    tokens_list = json.load(f)\n",
    "\n",
    "tokens_list = tokens_list[:10000]\n",
    "print(\"load data finished\")\n",
    "\n",
    "print(\"construct vocab...\")\n",
    "count = collections.Counter(\n",
    "    [token for tokens in tokens_list\n",
    "     for token in tokens]).most_common(MAX_VOCAB_SIZE - 1)\n",
    "count = [c for c in count if c[1] >= MIN_COUNT]\n",
    "count = [(\"UNK\", -1)] + count\n",
    "vocab_size = len(count)\n",
    "word2id = {word: i for i, (word, _) in enumerate(count)}\n",
    "id2word = {i: word for word, i in word2id.items()}\n",
    "\n",
    "# data is a list of lists of ids\n",
    "data = []\n",
    "unk_count = 0\n",
    "for tokens in tokens_list:\n",
    "    data.append([])\n",
    "    for token in tokens:\n",
    "        if token in word2id:\n",
    "            data[-1].append(word2id[token])\n",
    "        else:\n",
    "            data[-1].append(word2id['UNK'])\n",
    "            unk_count += 1\n",
    "count[0] = (\"UNK\", unk_count)\n",
    "count.sort(key=lambda x: x[1], reverse=True)\n",
    "print(\"construct vocab finished\")\n",
    "\n",
    "print(\"vocab size:\", vocab_size)\n",
    "print(\"most common words:\", count[:10])\n",
    "\n",
    "WINDOW_SIZE = 2\n",
    "\n",
    "print(\"generate train data...\")\n",
    "train_data = []\n",
    "for tokens in tqdm(data):\n",
    "    for i in range(len(tokens)):\n",
    "        if tokens[i] == word2id['UNK']:\n",
    "            continue\n",
    "        for j in range(max(0, i - WINDOW_SIZE), min(len(tokens), i + WINDOW_SIZE + 1)):\n",
    "            if i != j and tokens[j] != word2id['UNK']:\n",
    "                train_data.append((tokens[i], tokens[j]))\n",
    "X_p = []\n",
    "Y_p = []\n",
    "for tr in tqdm(train_data):\n",
    "    X_p.append(torch.tensor(tr[0], dtype=torch.long).view(1, -1).to(device))\n",
    "    Y_p.append(torch.tensor(tr[1], dtype=torch.long).view(1, -1).to(device))\n",
    "\n",
    "train_data = list(zip(X_p, Y_p))\n",
    "print(\"generate train data finished\")\n",
    "\n",
    "def get_batch(batch_size, train_data):\n",
    "    start_index, end_index = 0, batch_size\n",
    "    while end_index < len(train_data):\n",
    "        batch = train_data[start_index:end_index]\n",
    "        start_index, end_index = end_index, end_index + batch_size\n",
    "        yield batch\n",
    "    if start_index < len(train_data):\n",
    "        batch = train_data[start_index:]\n",
    "        yield batch\n",
    "\n",
    "num_total_words = sum(c for w, c in count[1:vocab_size])\n",
    "unigram_table = []\n",
    "for i in range(1, vocab_size):\n",
    "    unigram_table.extend([i] * int(((count[i][1] / num_total_words) ** 0.75) / 0.001))\n",
    "\n",
    "def negative_sampling(targets, unigram_table, k):\n",
    "    batch_size = targets.size(0)\n",
    "    neg_samples = []\n",
    "    for i in range(batch_size):\n",
    "        neg_sample = []\n",
    "        while len(neg_sample) < k:\n",
    "            neg = random.choice(unigram_table)\n",
    "            neg_sample.append(neg)\n",
    "        neg_samples.append(neg_sample)\n",
    "    return torch.tensor(neg_samples, dtype=torch.long).to(device)\n",
    "\n",
    "class SkipGram(nn.Module):\n",
    "    \n",
    "        def __init__(self, vocab_size, embedding_dim):\n",
    "            super(SkipGram, self).__init__()\n",
    "            self.embeddings_u = nn.Embedding(vocab_size, embedding_dim)\n",
    "            self.embeddings_v = nn.Embedding(vocab_size, embedding_dim)\n",
    "            self.logsigmoid = nn.LogSigmoid()\n",
    "    \n",
    "        def forward(self, center_words, target_words, negative_words):\n",
    "            center_embeds = self.embeddings_v(center_words)\n",
    "            target_embeds = self.embeddings_u(target_words)\n",
    "            negative_embeds = -self.embeddings_u(negative_words)\n",
    "\n",
    "            positive_score = target_embeds.bmm(center_embeds.transpose(1, 2)).squeeze(2)\n",
    "            negative_score = torch.sum(negative_embeds.bmm(center_embeds.transpose(1, 2)).squeeze(2), 1)\n",
    "            loss = self.logsigmoid(positive_score) + self.logsigmoid(negative_score)\n",
    "            return -torch.mean(loss)\n",
    "        \n",
    "        def prediction(self, inputs):\n",
    "            embeds = self.embeddings_v(inputs)\n",
    "            return embeds\n",
    "        \n",
    "EMBEDDING_DIM = 100\n",
    "BATCH_SIZE= 128\n",
    "\n",
    "model = SkipGram(vocab_size, EMBEDDING_DIM).to(device)\n",
    "optimizer = optim.Adam(model.parameters(), lr=0.001)\n",
    "\n",
    "for epoch in range(10):\n",
    "    for i, batch in tqdm(enumerate(get_batch(BATCH_SIZE, train_data))):\n",
    "        inputs, targets = zip(*batch)\n",
    "        inputs = torch.cat(inputs)\n",
    "        targets = torch.cat(targets)\n",
    "        negs = negative_sampling(targets, unigram_table, 5)\n",
    "        model.zero_grad()\n",
    "        loss = model(inputs, targets, negs)\n",
    "        loss.backward()\n",
    "        optimizer.step()\n",
    "\n",
    "vectors = model.prediction(torch.tensor(list(range(vocab_size))).to(device)).data.cpu().numpy()\n",
    "word2vector = {id2word[i]: vectors[i] for i in range(1, vocab_size)}\n",
    "\n",
    "import pickle\n",
    "with open('word2vector.pkl', 'wb') as f:\n",
    "    pickle.dump(word2vector, f)"
   ]
  },
  {
   "cell_type": "code",
   "execution_count": 90,
   "metadata": {},
   "outputs": [
    {
     "name": "stdout",
     "output_type": "stream",
     "text": [
      "[('outbreak', 0.57265913), ('crisis', 0.56251585), ('lockdown', 0.49010786), ('2019', 0.45312282), ('epidemic', 0.44698745), ('outbreaks', 0.4246801), ('world', 0.42065203), ('situation', 0.37828806), ('spread', 0.37622607), ('concerns', 0.35927305)]\n"
     ]
    }
   ],
   "source": [
    "def find_similarity(word):\n",
    "    target_v = word2vector[word]\n",
    "    similarities = []\n",
    "    for i in range(1, vocab_size):\n",
    "        if i == word2id[word]:\n",
    "            continue\n",
    "        input_v = word2vector[id2word[i]]\n",
    "        similarity = np.dot(target_v, input_v) / (np.linalg.norm(target_v) * np.linalg.norm(input_v))\n",
    "        similarities.append((id2word[i], similarity))\n",
    "    return sorted(similarities, key=lambda x: x[1], reverse=True)[:10]\n",
    "\n",
    "print(find_similarity('pandemic'))"
   ]
  },
  {
   "attachments": {},
   "cell_type": "markdown",
   "metadata": {},
   "source": [
    "### Track 3.3 (Bonus +5%): Use Contextualised Word Representation by Masked Language Model (MLM)\n",
    "\n",
    "BERT introduces a new language model for pre-training named Masked Language Model (MLM). The advantage of MLM is that the word representations by MLM will be contextualised.\n",
    "\n",
    "For example, \"stick\" may have different meanings in different context. By N-gram language modeling and word2vec (skip-gram, CBOW), the word representation of \"stick\" is fixed regardless of its context. However, MLM will learn the representation of \"stick\" dynamically based on context. In other words, \"stick\" will have different representations in different context by MLM.\n",
    "\n",
    "More to read: http://jalammar.github.io/illustrated-bert/ and https://arxiv.org/pdf/1810.04805.pdf\n",
    "\n",
    "Recommended outputs:\n",
    "\n",
    "- An algorithm that is able to generate contextualised representation in real time.\n"
   ]
  },
  {
   "cell_type": "code",
   "execution_count": null,
   "metadata": {},
   "outputs": [],
   "source": [
    "###################\n",
    "# TODO: add your solution\n",
    "\n",
    "###################"
   ]
  },
  {
   "attachments": {},
   "cell_type": "markdown",
   "metadata": {},
   "source": [
    "## Part 4 (20%): Explore the Word Representations\n",
    "\n",
    "The following tracks can be finished independently. You are encouraged to divide workload to each team member.\n"
   ]
  },
  {
   "attachments": {},
   "cell_type": "markdown",
   "metadata": {},
   "source": [
    "### Track 4.1 (5%): Visualise the word representations by t-SNE\n",
    "\n",
    "t-SNE is an algorithm to reduce dimensionality and commonly used to visualise high-dimension vectors. Use t-SNE to visualise the word representations. You may visualise up to 1000 words as t-SNE is highly computationally complex.\n",
    "\n",
    "More about t-SNE: https://lvdmaaten.github.io/tsne/\n",
    "\n",
    "Recommended output:\n",
    "\n",
    "- A diagram by t-SNE based on representations of up to 1000 words.\n"
   ]
  },
  {
   "cell_type": "code",
   "execution_count": null,
   "metadata": {},
   "outputs": [],
   "source": [
    "###################\n",
    "# TODO: add your solution\n",
    "\n",
    "###################"
   ]
  },
  {
   "attachments": {},
   "cell_type": "markdown",
   "metadata": {},
   "source": [
    "### Track 4.2 (5%): Visualise the Word Representations of Biomedical Entities by t-SNE\n",
    "\n",
    "Instead of visualising the word representations of the entire vocabulary (or 1000 words that are selected at random), visualise the word representations of words which are biomedical entities. For example, fever, cough, diabetes etc. Based on the category of those biomedical entities, can you assign different colours to the entities and see if the entities from the same category can be clustered by t-SNE? For example, sinusitis and cough are both respiratory diseases so they should be assigned with the same colour and ideally their representations should be close to each other by t-SNE. Another example, Alzheimer and headache are neurological diseases which should be assigned by another colour.\n",
    "\n",
    "Examples of biomedical ontology: https://www.ebi.ac.uk/ols/ontologies/hp and https://en.wikipedia.org/wiki/International_Classification_of_Diseases\n",
    "\n",
    "Recommended output:\n",
    "\n",
    "- A diagram with colours by t-SNE based on representations of biomedical entities.\n"
   ]
  },
  {
   "cell_type": "code",
   "execution_count": null,
   "metadata": {},
   "outputs": [],
   "source": [
    "###################\n",
    "# TODO: add your solution\n",
    "\n",
    "###################"
   ]
  },
  {
   "attachments": {},
   "cell_type": "markdown",
   "metadata": {},
   "source": [
    "### Track 4.3 (5%): Co-occurrence\n",
    "\n",
    "- What are the biomedical entities which frequently co-occur with COVID-19 (or coronavirus)?\n",
    "\n",
    "Recommended outputs:\n",
    "\n",
    "- A sorted list of biomedical entities and description on how the entities are selected and sorted.\n"
   ]
  },
  {
   "cell_type": "code",
   "execution_count": null,
   "metadata": {},
   "outputs": [],
   "source": [
    "###################\n",
    "# TODO: add your solution\n",
    "\n",
    "###################"
   ]
  },
  {
   "attachments": {},
   "cell_type": "markdown",
   "metadata": {},
   "source": [
    "### Track 4.4 (5%): Semantic Similarity\n",
    "\n",
    "- What are the biomedical entities which have closest semantic similarity COVID-19 (or coronavirus) based on word representations?\n",
    "\n",
    "Recommended outputs:\n",
    "\n",
    "- A sorted list of biomedical entities and description on how the entities are selected and sorted.\n"
   ]
  },
  {
   "cell_type": "code",
   "execution_count": null,
   "metadata": {},
   "outputs": [],
   "source": [
    "###################\n",
    "# TODO: add your solution\n",
    "\n",
    "###################"
   ]
  },
  {
   "attachments": {},
   "cell_type": "markdown",
   "metadata": {},
   "source": [
    "### Open Question (Optional): What else can you discover?\n"
   ]
  },
  {
   "cell_type": "code",
   "execution_count": null,
   "metadata": {},
   "outputs": [],
   "source": [
    "###################\n",
    "# TODO: add your solution\n",
    "\n",
    "###################"
   ]
  },
  {
   "attachments": {},
   "cell_type": "markdown",
   "metadata": {},
   "source": [
    "## Part 5 (Bonus +10%): Open Challenge: Mining Biomedical Knowledge\n",
    "\n",
    "A fundamental task in clinical/biomedical natural language processing is to extract intelligence from biomedical text corpus automatically and efficiently. More specifically, the intelligence may include biomedical entities mentioned in text, relations between biomedical entities, clinical features of patients, progression of diseases, all of which can be used to predict, understand and improve patients' outcomes.\n",
    "\n",
    "This open challenge is to build a biomedical knowledge graph based on the CORD-19 dataset and mine useful information from it. We recommend the following steps but you are also encouraged to develop your solution from scratch.\n"
   ]
  },
  {
   "attachments": {},
   "cell_type": "markdown",
   "metadata": {},
   "source": [
    "### Extract Biomedical Entities from Text\n",
    "\n",
    "Extract biomedical entities (such as fever, cough, headache, lung cancer, heart attack) from text. Note that:\n",
    "\n",
    "- The biomedical entities may consist of multiple words. For example, heart attack, multiple myeloma etc.\n",
    "- The biomedical entities may be written in synonyms. For example, low blood pressure for hypotension.\n",
    "- The biomedical entities may be written in different forms. For example, smoking, smokes, smoked.\n"
   ]
  },
  {
   "cell_type": "code",
   "execution_count": null,
   "metadata": {},
   "outputs": [],
   "source": [
    "###################\n",
    "# TODO: add your solution\n",
    "\n",
    "###################"
   ]
  },
  {
   "attachments": {},
   "cell_type": "markdown",
   "metadata": {},
   "source": [
    "### Extract Relations between Biomedical Entities\n",
    "\n",
    "Extract relations between biomedical entities based on their appearance in text. You may define a relation between biomedical entities by one or more of the following criteria:\n",
    "\n",
    "- The biomedical entities frequently co-occur together.\n",
    "- The biomedical entities have similar word representations.\n",
    "- The biomedical entities have clear relations based on textual narratives. For example, \"The most common symptoms for COVID-19 are fever and cough\" so we know there are relations between \"COVID-19\", \"fever\" and \"cough\".\n"
   ]
  },
  {
   "cell_type": "code",
   "execution_count": null,
   "metadata": {},
   "outputs": [],
   "source": [
    "###################\n",
    "# TODO: add your solution\n",
    "\n",
    "###################"
   ]
  },
  {
   "attachments": {},
   "cell_type": "markdown",
   "metadata": {},
   "source": [
    "### Build a Biomedical Knowledge Graph of COVID-19\n",
    "\n",
    "Build a knowledge graph based on the results from track 5.1 and 5.2 and visualise it.\n"
   ]
  },
  {
   "cell_type": "code",
   "execution_count": null,
   "metadata": {},
   "outputs": [],
   "source": [
    "###################\n",
    "# TODO: add your solution\n",
    "\n",
    "###################"
   ]
  }
 ],
 "metadata": {
  "kernelspec": {
   "display_name": ".venv",
   "language": "python",
   "name": "python3"
  },
  "language_info": {
   "codemirror_mode": {
    "name": "ipython",
    "version": 3
   },
   "file_extension": ".py",
   "mimetype": "text/x-python",
   "name": "python",
   "nbconvert_exporter": "python",
   "pygments_lexer": "ipython3",
   "version": "3.10.9"
  },
  "vscode": {
   "interpreter": {
    "hash": "61a808cfceb65a16c22cc52afa714299626512f7630f3d0b2c02708c1b8ef075"
   }
  }
 },
 "nbformat": 4,
 "nbformat_minor": 2
}
